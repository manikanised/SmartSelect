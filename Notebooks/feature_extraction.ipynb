{
 "cells": [
  {
   "cell_type": "code",
   "execution_count": 1,
   "id": "6c58b74c",
   "metadata": {},
   "outputs": [],
   "source": [
    "from bs4 import BeautifulSoup\n",
    "import requests"
   ]
  },
  {
   "cell_type": "code",
   "execution_count": 19,
   "id": "c8af7060",
   "metadata": {},
   "outputs": [],
   "source": [
    "rnge='500000-2000000'"
   ]
  },
  {
   "cell_type": "markdown",
   "id": "a2d64bd9",
   "metadata": {},
   "source": [
    "## Collecting links from the given range"
   ]
  },
  {
   "cell_type": "code",
   "execution_count": 2,
   "id": "5413ab80",
   "metadata": {},
   "outputs": [],
   "source": [
    "HEADERS = ({'User-Agent':'Chrome/44.0.2403.157',\n",
    "            'Accept-Language': 'en-US, en;q=0.5'})"
   ]
  },
  {
   "cell_type": "code",
   "execution_count": 20,
   "id": "30299ebb",
   "metadata": {},
   "outputs": [],
   "source": [
    "URL=\"https://www.amazon.in/s?i=electronics&bbn=1389432031&rh=n%3A1389432031%2Cp_36%3A\"+rnge+\"&dc&qid=1636374607&rnid=1318502031&ref=sr_nr_p_36_1\""
   ]
  },
  {
   "cell_type": "code",
   "execution_count": 21,
   "id": "90466d69",
   "metadata": {},
   "outputs": [
    {
     "name": "stdout",
     "output_type": "stream",
     "text": [
      "https://www.amazon.in/s?i=electronics&bbn=1389432031&rh=n%3A1389432031%2Cp_36%3A500000-2000000&dc&qid=1636374607&rnid=1318502031&ref=sr_nr_p_36_1\n"
     ]
    }
   ],
   "source": [
    "print(URL)"
   ]
  },
  {
   "cell_type": "code",
   "execution_count": 4,
   "id": "cb47ec11",
   "metadata": {},
   "outputs": [],
   "source": [
    "webpage=requests.get(URL, headers=HEADERS)\n",
    "soup= BeautifulSoup(webpage.content, \"lxml\")"
   ]
  },
  {
   "cell_type": "code",
   "execution_count": 7,
   "id": "b3d04010",
   "metadata": {},
   "outputs": [],
   "source": [
    "al=soup.findAll(\"div\",attrs={\"data-component-type\": 's-search-result'})"
   ]
  },
  {
   "cell_type": "code",
   "execution_count": 8,
   "id": "bb67b1a8",
   "metadata": {},
   "outputs": [],
   "source": [
    "links=[]\n",
    "prices=[]"
   ]
  },
  {
   "cell_type": "code",
   "execution_count": 9,
   "id": "fcc53901",
   "metadata": {},
   "outputs": [
    {
     "name": "stdout",
     "output_type": "stream",
     "text": [
      "['/Samsung-Storage-sAMOLED-Replacement-SM-M215GLBDINS/dp/B098NGDNMT', '/Samsung-Charcoal-Storage-Replacement-SM-M215GZKDINS/dp/B098NFJXXL', '/Samsung-Galaxy-M12-Storage-Processor/dp/B08XGDN3TZ', '/Redmi-Activ-Carbon-Black-Storage/dp/B09GFPVD9Y', '/realme-narzo-Oxygen-128GB-Storage/dp/B09FK8MBMJ', '/Redmi-Activ-Coral-Green-Storage/dp/B09GFLFMPS', '/Redmi-10-Prime-extendable-Adaptive/dp/B09CTYGJSD', '/Redmi-Storage-Super-Amoled-Display/dp/B0948NNY3W', '/Tecno-Spark-Storage-Battery-Camera/dp/B096LS7N6Z', '/Redmi-Sporty-Orange-64GB-Storage/dp/B08696W3B3', '/realme-narzo-Oxygen-Green-Storage/dp/B09FKDB27R', '/Samsung-Galaxy-M12-Storage-Processor/dp/B08XJCMGL7', '/Redmi-9A-2GB-32GB-Storage/dp/B08696XB4B', '/realme-narzo-Oxygen-Blue-Storage/dp/B09FKD67CS', '/Redmi-10-Prime-extendable-Adaptive/dp/B09CTY7TGF', '/Samsung-Galaxy-M12-Storage-Replacement/dp/B08XJBPCTR', '/Redmi-Activ-Coral-Green-Storage/dp/B09GFMFTHS', '/Redmi-Note-Deep-128GB-Storage/dp/B0948NFSWX', '/Samsung-Galaxy-M12-Storage-Replacement/dp/B08XJG8MQM', '/Oppo-Mystery-Storage-Additional-Exchange/dp/B08444S68L', '/realme-narzo-Carbon-Black-Storage/dp/B09FKB3446', '/Samsung-Storage-sAMOLED-Replacement-SM-M215GLBHINS/dp/B098NHMPJJ', '/Redmi-Activ-Carbon-Black-Storage/dp/B09GFP6XHG', '/Redmi-10-Prime-extendable-Adaptive/dp/B09CV13RWF']\n",
      "['12,999', '12,999', '11,499', '9,299', '12,499', '9,299', '12,499', '14,999', '8,599', '9,299', '12,499', '11,499', '7,299', '11,499', '12,499', '13,499', '10,999', '16,499', '13,499', '12,990', '8,799', '14,999', '10,999', '14,499']\n"
     ]
    }
   ],
   "source": [
    "for i in al:\n",
    "    try:\n",
    "        price=i.find(\"span\", attrs={\"class\":\"a-offscreen\"})\n",
    "        price=price.string\n",
    "        prices.append(price[1:])\n",
    "    except:\n",
    "        continue\n",
    "    i=i.find(\"span\",attrs={\"data-component-type\":\"s-product-image\"})\n",
    "    i=i.find(\"a\")[\"href\"]\n",
    "    links.append(i)\n",
    "print(links)\n",
    "print(prices)"
   ]
  },
  {
   "cell_type": "code",
   "execution_count": 10,
   "id": "27f5ea34",
   "metadata": {},
   "outputs": [],
   "source": [
    "names=[(i.split('/'))[1] for i in links]"
   ]
  },
  {
   "cell_type": "code",
   "execution_count": 11,
   "id": "90738642",
   "metadata": {},
   "outputs": [
    {
     "name": "stdout",
     "output_type": "stream",
     "text": [
      "24 24\n",
      "['Samsung-Storage-sAMOLED-Replacement-SM-M215GLBDINS', 'Samsung-Charcoal-Storage-Replacement-SM-M215GZKDINS', 'Samsung-Galaxy-M12-Storage-Processor', 'Redmi-Activ-Carbon-Black-Storage', 'realme-narzo-Oxygen-128GB-Storage', 'Redmi-Activ-Coral-Green-Storage', 'Redmi-10-Prime-extendable-Adaptive', 'Redmi-Storage-Super-Amoled-Display', 'Tecno-Spark-Storage-Battery-Camera', 'Redmi-Sporty-Orange-64GB-Storage', 'realme-narzo-Oxygen-Green-Storage', 'Samsung-Galaxy-M12-Storage-Processor', 'Redmi-9A-2GB-32GB-Storage', 'realme-narzo-Oxygen-Blue-Storage', 'Redmi-10-Prime-extendable-Adaptive', 'Samsung-Galaxy-M12-Storage-Replacement', 'Redmi-Activ-Coral-Green-Storage', 'Redmi-Note-Deep-128GB-Storage', 'Samsung-Galaxy-M12-Storage-Replacement', 'Oppo-Mystery-Storage-Additional-Exchange', 'realme-narzo-Carbon-Black-Storage', 'Samsung-Storage-sAMOLED-Replacement-SM-M215GLBHINS', 'Redmi-Activ-Carbon-Black-Storage', 'Redmi-10-Prime-extendable-Adaptive']\n"
     ]
    }
   ],
   "source": [
    "print(len(prices),len(links))\n",
    "print(names)"
   ]
  },
  {
   "cell_type": "code",
   "execution_count": 12,
   "id": "00c1ff21",
   "metadata": {},
   "outputs": [],
   "source": [
    "def clean(featstr):\n",
    "    i=0\n",
    "    while i < len(featstr)-1:\n",
    "        if featstr[i]==\"M\" and featstr[i+1]==\"P\" and featstr[i-1]==\" \":\n",
    "            featstr=featstr[:i-1]+featstr[i:]\n",
    "        if featstr[i]==\"G\" and featstr[i+1]==\"B\" and featstr[i-1]==\" \":\n",
    "            featstr=featstr[:i-1]+featstr[i:]\n",
    "        i+=1\n",
    "    print(\"features\",featstr)\n",
    "    return featstr\n",
    "            \n",
    "\n",
    "def extract(featstr):\n",
    "    featstr=clean(featstr)\n",
    "    featstr=featstr.split(' ')\n",
    "    lst=[\"\"]*3\n",
    "    for i in featstr:\n",
    "        if i[-2:]=='MP' and lst[0]==\"\":\n",
    "            s=i[:-2]\n",
    "            s=s.replace(\"MP\",\"\")\n",
    "            print(s)\n",
    "            if \"+\" in s:\n",
    "                s=s.split(\"+\")\n",
    "                s=list(map(int,s))\n",
    "                s=max(s)\n",
    "            else:\n",
    "                s=int(s)\n",
    "            lst[0]=s\n",
    "        elif i[-2:]=='GB' and lst[1]==\"\":\n",
    "            lst[1]=int(i[:-2])\n",
    "        elif i[-2:]=='GB' and lst[2]==\"\":\n",
    "            lst[2]=int(i[:-2])\n",
    "    return lst"
   ]
  },
  {
   "cell_type": "markdown",
   "id": "d3e4ff43",
   "metadata": {},
   "source": [
    "## Collecting features from links"
   ]
  },
  {
   "cell_type": "code",
   "execution_count": 13,
   "id": "f845bb67",
   "metadata": {},
   "outputs": [
    {
     "name": "stdout",
     "output_type": "stream",
     "text": [
      "fetching from- http://amazon.in/Samsung-Storage-sAMOLED-Replacement-SM-M215GLBDINS/dp/B098NGDNMT\n",
      "features 16.21 centimeters (6.4-inch) Super AMOLED - Infinity U-cut display, FHD+ resolution with 60Hz Refresh rate, protected by Gorilla Glass 3 48MP+8MP+5MP Triple camera setup-48MP (F 2.0) main camera + 8MP (F2.2) Ultra wide camera + 5MP (F2.2) depth camera | 20MP (F2.2) front camera Monster 6000 mAh Battery | Memory, Storage & SIM: 4GB RAM | 64GB internal memory expandable up to 512GB| SIM 1 + SIM 2 + MicroSD Android v11.0, One UI 3.1 operating system with Exynos 9611 Octa Core Processor 2.3GHz,1.7GHz 6000mAH lithium-ion battery, 1 year manufacturer warranty for device and 6 months manufacturer warranty for in-box accessories including batteries from the date of purchase \n",
      "48+8+5\n",
      "fetching from- http://amazon.in/Samsung-Charcoal-Storage-Replacement-SM-M215GZKDINS/dp/B098NFJXXL\n",
      "features 16.21 centimeters (6.4-inch) Super AMOLED - Infinity U-cut display, FHD+ resolution with 60Hz Refresh rate, protected by Gorilla Glass 3 48MP+8MP+5MP Triple camera setup-48MP (F 2.0) main camera + 8MP (F2.2) Ultra wide camera + 5MP (F2.2) depth camera | 20MP (F2.2) front camera Monster 6000 mAh Battery | Memory, Storage & SIM: 4GB RAM | 64GB internal memory expandable up to 512GB| SIM 1 + SIM 2 + MicroSD Android 11, OneUI 3.1 Core operating system with Exynos 9611 Octa Core Processor 2.3GHz,1.7GHz 6000mAH lithium-ion battery, 1 year manufacturer warranty for device and 6 months manufacturer warranty for in-box accessories including batteries from the date of purchase \n",
      "48+8+5\n",
      "fetching from- http://amazon.in/Samsung-Galaxy-M12-Storage-Processor/dp/B08XGDN3TZ\n",
      "features 48MP+5MP+2MP+2MP Quad camera setup- True 48MP (F 2.0) main camera + 5MP (F2.2) Ultra wide camera+ 2MP (F2.4) depth camera + 2MP (2.4) Macro Camera| 8MP (F2.2) front came 6000mAH lithium-ion battery, 1 year manufacturer warranty for device and 6 months manufacturer warranty for in-box accessories including batteries from the date of purchase Android 11, v11.0 operating system,One UI 3.1, with 8nm Power Efficient Exynos850 (Octa Core 2.0GH 16.55 centimeters (6.5-inch) HD+ TFT LCD - infinity v-cut display,90Hz screen refresh rate, HD+ resolution with 720 x 1600 pixels resolution, 269 PPI with 16M color Memory, Storage & SIM: 4GB RAM | 64GB internal memory expandable up to 1TB| Dual SIM (nano+nano) dual-standby (4G+4 \n",
      "48+5+2+2\n",
      "fetching from- http://amazon.in/Redmi-Activ-Carbon-Black-Storage/dp/B09GFPVD9Y\n",
      "features Processor: Octa-core Helio G35 and upto 2.3GHz clock speed Camera: 13+2MP Dual Rear camera with AI portrait| 5MP front camera Display: 16.58 centimeters (6.53-inch) HD+ display with 720x1600 pixels and 20:9 aspect ratio Battery: 5000 mAH large battery with 10W wired charger in-box Memory, Storage & SIM: 4GB RAM | 64GB storage | Dual SIM (nano+nano) + Dedicated SD card slot \n",
      "13+2\n",
      "fetching from- http://amazon.in/realme-narzo-Oxygen-128GB-Storage/dp/B09FK8MBMJ\n",
      "features MediaTek Helio G85 Octa-core Processor 4GB RAM | 128GB ROM | Expandable Upto 256GB 16.51 cm (6.5 inch) HD+ Display 50MP+2MP+2MP Primary Camera | 8MP Front Camera 6000 mAh Battery \n",
      "50+2+2\n",
      "fetching from- http://amazon.in/Redmi-Activ-Coral-Green-Storage/dp/B09GFLFMPS\n",
      "features Processor: Octa-core Helio G35 and upto 2.3GHz clock speed Camera: 13+2MP Dual Rear camera with AI portrait| 5MP front camera Display: 16.58 centimeters (6.53-inch) HD+ display with 720x1600 pixels and 20:9 aspect ratio Battery: 5000 mAH large battery with 10W wired charger in-box Memory, Storage & SIM: 4GB RAM | 64GB storage | Dual SIM (nano+nano) + Dedicated SD card slot \n",
      "13+2\n",
      "[[48, 4, 64, 12999], [48, 4, 64, 12999], [48, 4, 64, 11499], [13, 4, 64, 9299], [50, 4, 128, 12499], [13, 4, 64, 9299]]\n"
     ]
    }
   ],
   "source": [
    "lstoffeatures=[]\n",
    "for i in range(6):\n",
    "    URL1=links[i]\n",
    "    URL1=\"http://amazon.in\"+URL1\n",
    "    print(\"fetching from-\", URL1)\n",
    "    \n",
    "    webpage=requests.get(URL1, headers=HEADERS)\n",
    "    soup1= BeautifulSoup(webpage.content, \"lxml\")\n",
    "    features=soup1.find(\"div\", attrs={'id':'feature-bullets'}).findAll(\"li\")\n",
    "    \n",
    "    featstr=''\n",
    "    for j in features:\n",
    "        j=j.string\n",
    "        j=j.rstrip()\n",
    "        j=j.lstrip()\n",
    "        featstr+=j\n",
    "        featstr+=' '\n",
    "    lst=extract(featstr)\n",
    "    price=prices[i]\n",
    "    price=price.replace(',','')\n",
    "    price=int(price)\n",
    "    lst.append(price)\n",
    "    lstoffeatures.append(lst)\n",
    "print(lstoffeatures)"
   ]
  },
  {
   "cell_type": "code",
   "execution_count": null,
   "id": "cff4c522",
   "metadata": {},
   "outputs": [],
   "source": []
  }
 ],
 "metadata": {
  "kernelspec": {
   "display_name": "Python 3 (ipykernel)",
   "language": "python",
   "name": "python3"
  },
  "language_info": {
   "codemirror_mode": {
    "name": "ipython",
    "version": 3
   },
   "file_extension": ".py",
   "mimetype": "text/x-python",
   "name": "python",
   "nbconvert_exporter": "python",
   "pygments_lexer": "ipython3",
   "version": "3.8.12"
  }
 },
 "nbformat": 4,
 "nbformat_minor": 5
}
