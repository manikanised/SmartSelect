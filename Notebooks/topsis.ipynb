{
 "cells": [
  {
   "cell_type": "code",
   "execution_count": 1,
   "id": "6cd2746d",
   "metadata": {},
   "outputs": [],
   "source": [
    "w=0.25"
   ]
  },
  {
   "cell_type": "code",
   "execution_count": 2,
   "id": "6686c013",
   "metadata": {},
   "outputs": [],
   "source": [
    "inputlst=[[48, 4, 64, 12999], [48, 4, 64, 12999], [48, 4, 64, 11499], [13, 4, 64, 9299], [50, 4, 128, 12499], [13, 4, 64, 9299]]"
   ]
  },
  {
   "cell_type": "markdown",
   "id": "e0d41a50",
   "metadata": {},
   "source": [
    "### Normalization"
   ]
  },
  {
   "cell_type": "code",
   "execution_count": 6,
   "id": "c3ad2629",
   "metadata": {},
   "outputs": [
    {
     "name": "stdout",
     "output_type": "stream",
     "text": [
      "[[0, 0, 0, 0], [0, 0, 0, 0], [0, 0, 0, 0], [0, 0, 0, 0], [0, 0, 0, 0], [0, 0, 0, 0]]\n"
     ]
    }
   ],
   "source": [
    "newinputlst=[[0 for i in range(len(inputlst[0]))] for j in range(len(inputlst))]\n",
    "print(newinputlst)  "
   ]
  },
  {
   "cell_type": "code",
   "execution_count": 12,
   "id": "7721a82e",
   "metadata": {},
   "outputs": [
    {
     "name": "stdout",
     "output_type": "stream",
     "text": [
      "[[0.96, 1.0, 0.5, 1.0], [0.96, 1.0, 0.5, 1.0], [0.96, 1.0, 0.5, 0.884606508192938], [0.26, 1.0, 0.5, 0.7153627202092468], [1.0, 1.0, 1.0, 0.9615355027309793], [0.26, 1.0, 0.5, 0.7153627202092468]]\n"
     ]
    }
   ],
   "source": [
    "for i in range(len(inputlst[0])):\n",
    "    maxi=max(inputlst[j][i] for j in range(len(inputlst)))\n",
    "    for j in range(len(inputlst)):\n",
    "        newinputlst[j][i]=(inputlst[j][i])/maxi\n",
    "print(newinputlst)"
   ]
  },
  {
   "cell_type": "code",
   "execution_count": 13,
   "id": "bc110958",
   "metadata": {},
   "outputs": [
    {
     "name": "stdout",
     "output_type": "stream",
     "text": [
      "[[0.96, 1.0, 0.5, 0.0], [0.96, 1.0, 0.5, 0.0], [0.96, 1.0, 0.5, 0.11539349180706204], [0.26, 1.0, 0.5, 0.28463727979075315], [1.0, 1.0, 1.0, 0.03846449726902068], [0.26, 1.0, 0.5, 0.28463727979075315]]\n"
     ]
    }
   ],
   "source": [
    "for i in range(len(newinputlst)):\n",
    "    newinputlst[i][3]=1-newinputlst[i][3]\n",
    "print(newinputlst)"
   ]
  },
  {
   "cell_type": "markdown",
   "id": "a49b97a5",
   "metadata": {},
   "source": [
    "### Weighted normalized matrix"
   ]
  },
  {
   "cell_type": "code",
   "execution_count": 14,
   "id": "745146f1",
   "metadata": {},
   "outputs": [
    {
     "name": "stdout",
     "output_type": "stream",
     "text": [
      "[[0.24, 0.25, 0.125, 0.0], [0.24, 0.25, 0.125, 0.0], [0.24, 0.25, 0.125, 0.02884837295176551], [0.065, 0.25, 0.125, 0.07115931994768829], [0.25, 0.25, 0.25, 0.00961612431725517], [0.065, 0.25, 0.125, 0.07115931994768829]]\n"
     ]
    }
   ],
   "source": [
    "newinputlst=[[w*i for i in j] for j in newinputlst]\n",
    "print(newinputlst)"
   ]
  },
  {
   "cell_type": "markdown",
   "id": "23e45050",
   "metadata": {},
   "source": [
    "## Positive Ideal solution and Negative Ideal solution"
   ]
  },
  {
   "cell_type": "code",
   "execution_count": 19,
   "id": "11be841f",
   "metadata": {},
   "outputs": [
    {
     "name": "stdout",
     "output_type": "stream",
     "text": [
      "[0.25, 0.25, 0.25, 0.07115931994768829]\n",
      "[0.065, 0.25, 0.125, 0.0]\n"
     ]
    }
   ],
   "source": [
    "p_ideal=[max([i[j] for i in newinputlst]) for j in range(len(newinputlst[0]))]\n",
    "n_ideal=[min([i[j] for i in newinputlst]) for j in range(len(newinputlst[0]))]\n",
    "print(p_ideal)\n",
    "print(n_ideal)"
   ]
  },
  {
   "cell_type": "markdown",
   "id": "0b2ee577",
   "metadata": {},
   "source": [
    "## Seperation from ideal solution"
   ]
  },
  {
   "cell_type": "code",
   "execution_count": 22,
   "id": "183c9c64",
   "metadata": {},
   "outputs": [
    {
     "name": "stdout",
     "output_type": "stream",
     "text": [
      "[0.2061593199476883, 0.2061593199476883, 0.17731094699592279, 0.31, 0.06154319563043312, 0.31]\n"
     ]
    }
   ],
   "source": [
    "p_sep=[sum([(p_ideal[i]-newinputlst[j][i]) for i in range(4)]) for j in range(len(newinputlst))]\n",
    "print(p_sep)"
   ]
  },
  {
   "cell_type": "code",
   "execution_count": 23,
   "id": "f3fd2887",
   "metadata": {},
   "outputs": [
    {
     "name": "stdout",
     "output_type": "stream",
     "text": [
      "[0.175, 0.175, 0.2038483729517655, 0.07115931994768829, 0.31961612431725517, 0.07115931994768829]\n"
     ]
    }
   ],
   "source": [
    "n_sep=[sum([(newinputlst[j][i]-n_ideal[i]) for i in range(4)]) for j in range(len(newinputlst))]\n",
    "print(n_sep)"
   ]
  },
  {
   "cell_type": "markdown",
   "id": "85e8ef56",
   "metadata": {},
   "source": [
    "## Calculating ranks"
   ]
  },
  {
   "cell_type": "code",
   "execution_count": 24,
   "id": "2f394e8d",
   "metadata": {},
   "outputs": [
    {
     "name": "stdout",
     "output_type": "stream",
     "text": [
      "[0.45912559615233245, 0.45912559615233245, 0.5348114614637848, 0.18669180110158257, 0.8385368206689017, 0.18669180110158257]\n"
     ]
    }
   ],
   "source": [
    "r=[(n_sep[i]/(n_sep[i]+p_sep[i])) for i in range(len(p_sep))]\n",
    "print(r)"
   ]
  },
  {
   "cell_type": "code",
   "execution_count": 25,
   "id": "7ff359ac",
   "metadata": {},
   "outputs": [
    {
     "name": "stdout",
     "output_type": "stream",
     "text": [
      "[0.18669180110158257, 0.18669180110158257, 0.45912559615233245, 0.45912559615233245, 0.5348114614637848, 0.8385368206689017]\n"
     ]
    }
   ],
   "source": [
    "r1=sorted(r)\n",
    "print(r1)"
   ]
  },
  {
   "cell_type": "code",
   "execution_count": 28,
   "id": "bdf0381e",
   "metadata": {},
   "outputs": [
    {
     "name": "stdout",
     "output_type": "stream",
     "text": [
      "[3, 4, 5, 1, 6, 2]\n"
     ]
    }
   ],
   "source": [
    "ranks=[r1.index(i)+1 for i in r]\n",
    "dis=[]\n",
    "for i in range(len(ranks)):\n",
    "    if ranks[i] in dis:\n",
    "        ranks[i]+=1\n",
    "    else:\n",
    "        dis.append(ranks[i])\n",
    "print(ranks)"
   ]
  }
 ],
 "metadata": {
  "kernelspec": {
   "display_name": "Python 3 (ipykernel)",
   "language": "python",
   "name": "python3"
  },
  "language_info": {
   "codemirror_mode": {
    "name": "ipython",
    "version": 3
   },
   "file_extension": ".py",
   "mimetype": "text/x-python",
   "name": "python",
   "nbconvert_exporter": "python",
   "pygments_lexer": "ipython3",
   "version": "3.8.12"
  }
 },
 "nbformat": 4,
 "nbformat_minor": 5
}
